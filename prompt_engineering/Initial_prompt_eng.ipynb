{
 "cells": [
  {
   "cell_type": "code",
   "execution_count": 1,
   "id": "fa599149-f7e1-44bc-adc8-aa80e7a3dc86",
   "metadata": {},
   "outputs": [],
   "source": [
    "import openai\n",
    "import os\n",
    "import json \n",
    "import requests\n",
    "from pprint import pprint\n",
    "import json\n",
    "import tiktoken\n",
    "import openai\n",
    "import requests\n",
    "from tenacity import retry, wait_random_exponential, stop_after_attempt\n",
    "from termcolor import colored\n",
    "GPT_MODEL = \"gpt-3.5-turbo-0613\""
   ]
  },
  {
   "cell_type": "code",
   "execution_count": 2,
   "id": "ef1cb92a-36ba-48dc-9086-75f61e9838c3",
   "metadata": {},
   "outputs": [],
   "source": [
    "from dotenv import load_dotenv, find_dotenv\n",
    "from openai import OpenAI\n",
    "_ = load_dotenv(find_dotenv())\n",
    "openai.api_key  = os.getenv('OPENAI_API_KEY')"
   ]
  },
  {
   "cell_type": "code",
   "execution_count": 3,
   "id": "878c655b-b1b0-4b1f-899e-71eb71b23bf5",
   "metadata": {},
   "outputs": [],
   "source": [
    "def count_token(input, model_name=GPT_MODEL, debug=False):\n",
    "        encoding = tiktoken.encoding_for_model(model_name)\n",
    "        codex = \" \".join(input.splitlines())  # Join lines into a single string\n",
    "        num_tokens = len(encoding.encode(codex))\n",
    "        return num_tokens\n"
   ]
  },
  {
   "cell_type": "code",
   "execution_count": 4,
   "id": "863962a4-6887-44db-9001-dd209806f3dd",
   "metadata": {},
   "outputs": [],
   "source": [
    "from openai import OpenAI\n",
    "client = OpenAI()\n",
    "\n",
    "response = client.completions.create(\n",
    "  model=\"gpt-3.5-turbo-instruct\",\n",
    "  prompt=\"Write a tagline for an ice cream shop.\"\n",
    ")"
   ]
  },
  {
   "cell_type": "code",
   "execution_count": 5,
   "id": "222d0615-ad5b-4a9c-89c9-67da77f1c23d",
   "metadata": {},
   "outputs": [
    {
     "data": {
      "text/plain": [
       "'\\n\\n\"Scoops of Happiness in Every Bite.\"'"
      ]
     },
     "execution_count": 5,
     "metadata": {},
     "output_type": "execute_result"
    }
   ],
   "source": [
    "response.choices[0].text"
   ]
  },
  {
   "cell_type": "code",
   "execution_count": 6,
   "id": "b6b36f05-34f6-49b9-b173-d779df254578",
   "metadata": {},
   "outputs": [
    {
     "name": "stdout",
     "output_type": "stream",
     "text": [
      "ChatCompletionMessage(content='\"Scoop up blissful indulgence, one irresistible lick at a time!\"', role='assistant', function_call=None, tool_calls=None)\n"
     ]
    }
   ],
   "source": [
    "client = OpenAI()\n",
    "\n",
    "completion = client.chat.completions.create(\n",
    "  model=GPT_MODEL,\n",
    "  messages=[\n",
    "    {\"role\": \"system\", \"content\": \"You are an expert in writing taglines for ice cream shops. you are creative and original.\"},\n",
    "    {\"role\": \"user\", \"content\": \"Write a tagline for an ice cream shop.\"}\n",
    "  ]\n",
    ")\n",
    "\n",
    "print(completion.choices[0].message)"
   ]
  },
  {
   "cell_type": "code",
   "execution_count": 7,
   "id": "82b6961f-057f-4523-a49d-510068cca7dc",
   "metadata": {},
   "outputs": [
    {
     "name": "stdout",
     "output_type": "stream",
     "text": [
      "'\"Scoop up blissful indulgence, one irresistible lick at a time!\"'\n"
     ]
    }
   ],
   "source": [
    "pprint(completion.choices[0].message.content)"
   ]
  },
  {
   "cell_type": "code",
   "execution_count": 8,
   "id": "00853cb9-4082-40ee-931a-794bf8922ec9",
   "metadata": {},
   "outputs": [],
   "source": [
    "from openai import OpenAI\n",
    "client = OpenAI()\n",
    "\n",
    "response = client.chat.completions.create(\n",
    "  model=\"gpt-3.5-turbo\",\n",
    "  messages=[\n",
    "    {\"role\": \"system\", \"content\": \"You are a helpful assistant.\"},\n",
    "    {\"role\": \"user\", \"content\": \"Who won the world series in 2020?\"},\n",
    "    {\"role\": \"assistant\", \"content\": \"The Los Angeles Dodgers won the World Series in 2020.\"},\n",
    "    {\"role\": \"user\", \"content\": \"Where was it played?\"}\n",
    "  ]\n",
    ")"
   ]
  },
  {
   "cell_type": "code",
   "execution_count": 9,
   "id": "21efe783-2e5f-4d9c-a5c4-52b575a6c38a",
   "metadata": {},
   "outputs": [
    {
     "data": {
      "text/plain": [
       "'The World Series in 2020 was played at the Globe Life Field in Arlington, Texas.'"
      ]
     },
     "execution_count": 9,
     "metadata": {},
     "output_type": "execute_result"
    }
   ],
   "source": [
    "response.choices[0].message.content"
   ]
  },
  {
   "cell_type": "code",
   "execution_count": 11,
   "id": "2d2224f8-17e0-4204-bb05-f6ae7e724e2d",
   "metadata": {},
   "outputs": [],
   "source": [
    "articles = \"\"\"List of 2022 Winter Olympics medal winners\n",
    "\n",
    "==Curling==\n",
    "\n",
    "{{main|Curling at the 2022 Winter Olympics}}\n",
    "{|{{MedalistTable|type=Event|columns=1|width=225|labelwidth=200}}\n",
    "|-valign=\"top\"\n",
    "|Men<br/>{{DetailsLink|Curling at the 2022 Winter Olympics – Men's tournament}}\n",
    "|{{flagIOC|SWE|2022 Winter}}<br/>[[Niklas Edin]]<br/>[[Oskar Eriksson]]<br/>[[Rasmus Wranå]]<br/>[[Christoffer Sundgren]]<br/>[[Daniel Magnusson (curler)|Daniel Magnusson]]\n",
    "|{{flagIOC|GBR|2022 Winter}}<br/>[[Bruce Mouat]]<br/>[[Grant Hardie]]<br/>[[Bobby Lammie]]<br/>[[Hammy McMillan Jr.]]<br/>[[Ross Whyte]]\n",
    "|{{flagIOC|CAN|2022 Winter}}<br/>[[Brad Gushue]]<br/>[[Mark Nichols (curler)|Mark Nichols]]<br/>[[Brett Gallant]]<br/>[[Geoff Walker (curler)|Geoff Walker]]<br/>[[Marc Kennedy]]\n",
    "|-valign=\"top\"\n",
    "|Women<br/>{{DetailsLink|Curling at the 2022 Winter Olympics – Women's tournament}}\n",
    "|{{flagIOC|GBR|2022 Winter}}<br/>[[Eve Muirhead]]<br/>[[Vicky Wright]]<br/>[[Jennifer Dodds]]<br/>[[Hailey Duff]]<br/>[[Mili Smith]]\n",
    "|{{flagIOC|JPN|2022 Winter}}<br/>[[Satsuki Fujisawa]]<br/>[[Chinami Yoshida]]<br/>[[Yumi Suzuki]]<br/>[[Yurika Yoshida]]<br/>[[Kotomi Ishizaki]]\n",
    "|{{flagIOC|SWE|2022 Winter}}<br/>[[Anna Hasselborg]]<br/>[[Sara McManus]]<br/>[[Agnes Knochenhauer]]<br/>[[Sofia Mabergs]]<br/>[[Johanna Heldin]]\n",
    "|-valign=\"top\"\n",
    "|Mixed doubles<br/>{{DetailsLink|Curling at the 2022 Winter Olympics – Mixed doubles tournament}}\n",
    "|{{flagIOC|ITA|2022 Winter}}<br/>[[Stefania Constantini]]<br/>[[Amos Mosaner]]\n",
    "|{{flagIOC|NOR|2022 Winter}}<br/>[[Kristin Skaslien]]<br/>[[Magnus Nedregotten]]\n",
    "|{{flagIOC|SWE|2022 Winter}}<br/>[[Almida de Val]]<br/>[[Oskar Eriksson]]\n",
    "|}\n",
    "\n",
    "Curling at the 2022 Winter Olympics\n",
    "\n",
    "==Results summary==\n",
    "\n",
    "===Women's tournament===\n",
    "\n",
    "====Playoffs====\n",
    "\n",
    "=====Gold medal game=====\n",
    "\n",
    "''Sunday, 20 February, 9:05''\n",
    "{{#lst:Curling at the 2022 Winter Olympics – Women's tournament|GM}}\n",
    "{{Player percentages\n",
    "| team1 = {{flagIOC|JPN|2022 Winter}}\n",
    "| [[Yurika Yoshida]] | 97%\n",
    "| [[Yumi Suzuki]] | 82%\n",
    "| [[Chinami Yoshida]] | 64%\n",
    "| [[Satsuki Fujisawa]] | 69%\n",
    "| teampct1 = 78%\n",
    "| team2 = {{flagIOC|GBR|2022 Winter}}\n",
    "| [[Hailey Duff]] | 90%\n",
    "| [[Jennifer Dodds]] | 89%\n",
    "| [[Vicky Wright]] | 89%\n",
    "| [[Eve Muirhead]] | 88%\n",
    "| teampct2 = 89%\n",
    "}}\"\"\"\n"
   ]
  },
  {
   "cell_type": "code",
   "execution_count": 12,
   "id": "6121a8cd-0e40-4ddc-9247-eb886ece878c",
   "metadata": {},
   "outputs": [],
   "source": [
    "system_message =f\"\"\"Use the provided articles delimited by xml tags to answer questions. If the answer cannot be found in the articles, write I could not find an answer.\n",
    "articles: < {articles} > \n",
    "\"\"\""
   ]
  },
  {
   "cell_type": "code",
   "execution_count": 13,
   "id": "3270132c-5261-41e5-885b-daebc488b748",
   "metadata": {},
   "outputs": [
    {
     "data": {
      "text/plain": [
       "850"
      ]
     },
     "execution_count": 13,
     "metadata": {},
     "output_type": "execute_result"
    }
   ],
   "source": [
    "count_token(system_message)"
   ]
  },
  {
   "cell_type": "code",
   "execution_count": 14,
   "id": "783b0950-7542-4d23-abb5-c880f81f4975",
   "metadata": {},
   "outputs": [],
   "source": [
    "user_message =\"\"\"Question: Who won the gold medal in women's curling at the 2023 Winter Olympics?\"\"\""
   ]
  },
  {
   "cell_type": "code",
   "execution_count": 15,
   "id": "795dd971-2c56-4a7b-8a8d-9810c1506aaf",
   "metadata": {},
   "outputs": [
    {
     "data": {
      "text/plain": [
       "20"
      ]
     },
     "execution_count": 15,
     "metadata": {},
     "output_type": "execute_result"
    }
   ],
   "source": [
    "count_token(user_message)"
   ]
  },
  {
   "cell_type": "code",
   "execution_count": 16,
   "id": "61a5c224-dd69-4880-b6c9-cf4c4ea35b80",
   "metadata": {},
   "outputs": [],
   "source": [
    "from openai import OpenAI\n",
    "def get_gpt_response(system_message, user_message):\n",
    "    client = OpenAI()\n",
    "    response = client.chat.completions.create(\n",
    "        model=\"gpt-3.5-turbo\",\n",
    "        messages=[\n",
    "            {\n",
    "                \"role\": \"system\",\n",
    "                \"content\": system_message\n",
    "            },\n",
    "            {\n",
    "                \"role\": \"user\",\n",
    "                \"content\": user_message\n",
    "            }\n",
    "        ],\n",
    "        temperature=0,\n",
    "        max_tokens=1024,\n",
    "        top_p=1,\n",
    "        frequency_penalty=0,\n",
    "        presence_penalty=0\n",
    "    )\n",
    "\n",
    "    return response.choices[0].message.content\n"
   ]
  },
  {
   "cell_type": "code",
   "execution_count": 17,
   "id": "bd61f3b8-f121-40c9-9cca-7fe798297c71",
   "metadata": {},
   "outputs": [],
   "source": [
    "response = get_gpt_response(system_message, user_message)"
   ]
  },
  {
   "cell_type": "code",
   "execution_count": 18,
   "id": "b24769a1-00f9-456f-b927-ff3124a08867",
   "metadata": {},
   "outputs": [
    {
     "data": {
      "text/plain": [
       "'I could not find an answer.'"
      ]
     },
     "execution_count": 18,
     "metadata": {},
     "output_type": "execute_result"
    }
   ],
   "source": [
    "response"
   ]
  },
  {
   "cell_type": "code",
   "execution_count": null,
   "id": "152cce7d-3a6d-4221-9f00-a6784066aec0",
   "metadata": {},
   "outputs": [],
   "source": []
  }
 ],
 "metadata": {
  "kernelspec": {
   "display_name": "Python 3 (ipykernel)",
   "language": "python",
   "name": "python3"
  },
  "language_info": {
   "codemirror_mode": {
    "name": "ipython",
    "version": 3
   },
   "file_extension": ".py",
   "mimetype": "text/x-python",
   "name": "python",
   "nbconvert_exporter": "python",
   "pygments_lexer": "ipython3",
   "version": "3.11.2"
  }
 },
 "nbformat": 4,
 "nbformat_minor": 5
}
